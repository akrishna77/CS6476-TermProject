{
  "nbformat": 4,
  "nbformat_minor": 0,
  "metadata": {
    "colab": {
      "name": "TripletNN.ipynb",
      "provenance": [],
      "collapsed_sections": [],
      "toc_visible": true,
      "machine_shape": "hm"
    },
    "kernelspec": {
      "name": "python3",
      "display_name": "Python 3"
    },
    "accelerator": "GPU"
  },
  "cells": [
    {
      "cell_type": "code",
      "metadata": {
        "id": "37y-BTAqod_s",
        "colab_type": "code",
        "colab": {}
      },
      "source": [
        "import numpy as np\n",
        "from sklearn.metrics import roc_curve\n",
        "from sklearn.neighbors import KNeighborsClassifier\n",
        "import random\n",
        "import matplotlib.patheffects as PathEffects"
      ],
      "execution_count": 0,
      "outputs": []
    },
    {
      "cell_type": "code",
      "metadata": {
        "id": "yIKs-JZkogJ1",
        "colab_type": "code",
        "colab": {
          "base_uri": "https://localhost:8080/",
          "height": 80
        },
        "outputId": "5a773380-bfc7-4ef3-93ce-cef8ce4796bd"
      },
      "source": [
        "from keras.layers import Input, Conv2D, Lambda, Dense, Flatten,MaxPooling2D, concatenate\n",
        "from keras.models import Model, Sequential\n",
        "from keras.regularizers import l2\n",
        "from keras import backend as K\n",
        "from keras.optimizers import SGD,Adam\n",
        "from keras.losses import binary_crossentropy\n",
        "import os\n",
        "import pickle\n",
        "import matplotlib.pyplot as plt"
      ],
      "execution_count": 3,
      "outputs": [
        {
          "output_type": "stream",
          "text": [
            "Using TensorFlow backend.\n"
          ],
          "name": "stderr"
        },
        {
          "output_type": "display_data",
          "data": {
            "text/html": [
              "<p style=\"color: red;\">\n",
              "The default version of TensorFlow in Colab will soon switch to TensorFlow 2.x.<br>\n",
              "We recommend you <a href=\"https://www.tensorflow.org/guide/migrate\" target=\"_blank\">upgrade</a> now \n",
              "or ensure your notebook will continue to use TensorFlow 1.x via the <code>%tensorflow_version 1.x</code> magic:\n",
              "<a href=\"https://colab.research.google.com/notebooks/tensorflow_version.ipynb\" target=\"_blank\">more info</a>.</p>\n"
            ],
            "text/plain": [
              "<IPython.core.display.HTML object>"
            ]
          },
          "metadata": {
            "tags": []
          }
        }
      ]
    },
    {
      "cell_type": "code",
      "metadata": {
        "id": "Utzp1KZpoiNp",
        "colab_type": "code",
        "colab": {}
      },
      "source": [
        "from itertools import permutations\n",
        "import seaborn as sns\n",
        "from keras.datasets import mnist\n",
        "from sklearn.manifold import TSNE\n",
        "from sklearn.svm import SVC\n",
        "import json"
      ],
      "execution_count": 0,
      "outputs": []
    },
    {
      "cell_type": "code",
      "metadata": {
        "id": "EdzKbwlyolK-",
        "colab_type": "code",
        "colab": {
          "base_uri": "https://localhost:8080/",
          "height": 51
        },
        "outputId": "f3ff9114-6259-4d50-9cc6-eef9c95b88fd"
      },
      "source": [
        "x=np.load(\"/content/drive/My Drive/features.npy\")\n",
        "y=np.load(\"/content/drive/My Drive/labels.npy\")\n",
        "print(x.shape)\n",
        "print(y.shape)"
      ],
      "execution_count": 5,
      "outputs": [
        {
          "output_type": "stream",
          "text": [
            "(30354, 30008)\n",
            "(30354,)\n"
          ],
          "name": "stdout"
        }
      ]
    },
    {
      "cell_type": "code",
      "metadata": {
        "id": "1QkfIRNFo4u-",
        "colab_type": "code",
        "colab": {
          "base_uri": "https://localhost:8080/",
          "height": 170
        },
        "outputId": "4fcf2354-f5a2-4169-845b-2536572172e5"
      },
      "source": [
        "a,b=np.unique(y,return_counts=True)\n",
        "print(a)\n",
        "print(b)\n",
        "print(len(a))"
      ],
      "execution_count": 6,
      "outputs": [
        {
          "output_type": "stream",
          "text": [
            "[ 0  1  2  3  4  5  6  7  8  9 10 11 12 14 15 16 17 18 19 20 21 22 23 24\n",
            " 25 26 27 28 29 30 31 32 33 34 35 36 37 38 39 40 41 42 43 44 45 46 47 48\n",
            " 49 50 51 52 53 54 55 56 57 58 59 60 61 62 63 64 65 66 67 68 69]\n",
            "[5113 4345 2314 2366    3   75  109   37    5 2417 2237    8    7 1539\n",
            " 1481    5    3 1372   20    5    3  734  762  754    3  569  610  417\n",
            "  366  222  189  381  364  205  159  156  120   94   72   64   51   60\n",
            "   57   48   38   29   27   45   21   21    9   32   15   21   13   21\n",
            "   23   17   23   15    9    9    6    7    7   10    6    5    4]\n",
            "69\n"
          ],
          "name": "stdout"
        }
      ]
    },
    {
      "cell_type": "code",
      "metadata": {
        "id": "sa7r7g0No-9s",
        "colab_type": "code",
        "colab": {}
      },
      "source": [
        "def generate_triplet(x,y,testsize=0.3,ap_pairs=10,an_pairs=10):\n",
        "    data_xy = tuple([x,y])\n",
        "\n",
        "    trainsize = 1-testsize\n",
        "\n",
        "    triplet_train_pairs = []\n",
        "    triplet_test_pairs = []\n",
        "    triplet_train_labels=[]\n",
        "    triplet_test_labels=[]\n",
        "\n",
        "    for data_class in sorted(set(data_xy[1])):\n",
        "\n",
        "        same_class_idx = np.where((data_xy[1] == data_class))[0]\n",
        "        diff_class_idx = np.where(data_xy[1] != data_class)[0]\n",
        "        if(len(same_class_idx)<ap_pairs):\n",
        "            continue\n",
        "        A_P_pairs = random.sample(list(permutations(same_class_idx,2)),k=ap_pairs) #Generating Anchor-Positive pairs\n",
        "        Neg_idx = random.sample(list(diff_class_idx),k=an_pairs)\n",
        "        \n",
        "\n",
        "        #train\n",
        "        A_P_len = len(A_P_pairs)\n",
        "        Neg_len = len(Neg_idx)\n",
        "        for ap in A_P_pairs[:int(A_P_len*trainsize)]:\n",
        "            Anchor = data_xy[0][ap[0]]\n",
        "            Positive = data_xy[0][ap[1]]\n",
        "            for n in Neg_idx:\n",
        "                Negative = data_xy[0][n]\n",
        "                triplet_train_pairs.append([Anchor,Positive,Negative])  \n",
        "                triplet_train_labels.append(data_xy[1][n])             \n",
        "        #test\n",
        "        for ap in A_P_pairs[int(A_P_len*trainsize):]:\n",
        "            Anchor = data_xy[0][ap[0]]\n",
        "            Positive = data_xy[0][ap[1]]\n",
        "            for n in Neg_idx:\n",
        "                Negative = data_xy[0][n]\n",
        "                triplet_test_pairs.append([Anchor,Positive,Negative])   \n",
        "                triplet_test_labels.append(data_xy[1][n])  \n",
        "                \n",
        "    return np.array(triplet_train_pairs), np.array(triplet_train_labels), np.array(triplet_test_pairs), np.array(triplet_test_labels)"
      ],
      "execution_count": 0,
      "outputs": []
    },
    {
      "cell_type": "code",
      "metadata": {
        "id": "OHmKhIMepExv",
        "colab_type": "code",
        "colab": {
          "base_uri": "https://localhost:8080/",
          "height": 85
        },
        "outputId": "590c2bfe-539e-4a30-9354-5761ce5e8dd6"
      },
      "source": [
        "X_train, y_train, X_test, y_test = generate_triplet(x,y, testsize=0.2,ap_pairs=10, an_pairs=10)\n",
        "print(X_train.shape)\n",
        "print(y_train.shape)\n",
        "print(X_test.shape)\n",
        "print(y_test.shape)"
      ],
      "execution_count": 8,
      "outputs": [
        {
          "output_type": "stream",
          "text": [
            "(4080, 3, 30008)\n",
            "(4080,)\n",
            "(1020, 3, 30008)\n",
            "(1020,)\n"
          ],
          "name": "stdout"
        }
      ]
    },
    {
      "cell_type": "code",
      "metadata": {
        "id": "ziGAO2sKpH_S",
        "colab_type": "code",
        "colab": {}
      },
      "source": [
        "def triplet_loss(y_true, y_pred, alpha = 0.4):\n",
        "    \"\"\"\n",
        "    Implementation of the triplet loss function\n",
        "    Arguments:\n",
        "    y_true -- true labels, required when you define a loss in Keras, you don't need it in this function.\n",
        "    y_pred -- python list containing three objects:\n",
        "            anchor -- the encodings for the anchor data\n",
        "            positive -- the encodings for the positive data (similar to anchor)\n",
        "            negative -- the encodings for the negative data (different from anchor)\n",
        "    Returns:\n",
        "    loss -- real number, value of the loss\n",
        "    \"\"\"\n",
        "\n",
        "    print('y_pred.shape = ',y_pred)\n",
        "    \n",
        "    total_length = y_pred.shape.as_list()[-1]\n",
        "    anchor = y_pred[:,0:int(total_length*1/3)]\n",
        "    positive = y_pred[:,int(total_length*1/3):int(total_length*2/3)]\n",
        "    negative = y_pred[:,int(total_length*2/3):int(total_length*3/3)]\n",
        "\n",
        "    # distance between the anchor and the positive\n",
        "    pos_dist = K.sum(K.square(anchor-positive),axis=1)\n",
        "\n",
        "    # distance between the anchor and the negative\n",
        "    neg_dist = K.sum(K.square(anchor-negative),axis=1)\n",
        "\n",
        "    # compute loss\n",
        "    basic_loss = pos_dist-neg_dist+alpha\n",
        "    loss = K.maximum(basic_loss,0.0)\n",
        " \n",
        "    return loss"
      ],
      "execution_count": 0,
      "outputs": []
    },
    {
      "cell_type": "code",
      "metadata": {
        "id": "FNspOndGpK6b",
        "colab_type": "code",
        "colab": {}
      },
      "source": [
        "def create_base_network(in_dims,b_dims):\n",
        "    \"\"\"\n",
        "    Base network to be shared.\n",
        "    \"\"\"\n",
        "    inputs=Input(shape=(100,100,3),name=\"inputs\")\n",
        "    features=Input(shape=(8,),name=\"features\")\n",
        "    hidden1=Conv2D(32,(7,7),padding=\"same\",activation=\"relu\")(inputs)\n",
        "    pool1=MaxPooling2D((2,2),padding=\"same\")(hidden1)\n",
        "    hidden2=Conv2D(64,(5,5),padding=\"same\",activation=\"relu\")(pool1)\n",
        "    pool2=MaxPooling2D((2,2),padding=\"same\")(hidden2)\n",
        "    flat_features=Flatten(name=\"Flatten\")(pool2)\n",
        "    merged=concatenate([flat_features,features])\n",
        "    #hidden3=Dense(100,activation=\"relu\")(merged)\n",
        "    #output=Dense(1,activation=\"softmax\")(hidden3)\n",
        "    output=Dense(7,name=\"embedding\")(merged)\n",
        "    model=Model(inputs=[inputs,features],outputs=output)\n",
        "    return model"
      ],
      "execution_count": 0,
      "outputs": []
    },
    {
      "cell_type": "code",
      "metadata": {
        "id": "LbVsahB4pNjm",
        "colab_type": "code",
        "colab": {}
      },
      "source": [
        "adam_optim = Adam(lr=0.0001, beta_1=0.9, beta_2=0.999)"
      ],
      "execution_count": 0,
      "outputs": []
    },
    {
      "cell_type": "code",
      "metadata": {
        "id": "u4eOqPEJpQvG",
        "colab_type": "code",
        "colab": {
          "base_uri": "https://localhost:8080/",
          "height": 275
        },
        "outputId": "f5bc61a2-740d-47cd-d4f8-57a502a5d5be"
      },
      "source": [
        "anchor_input = Input((100,100,3,), name='anchor_input')\n",
        "anchor_bb=Input((8,),name='anchor_bounding_box')\n",
        "positive_input = Input((100,100,3, ), name='positive_input')\n",
        "positive_bb=Input((8,),name='positive_bounding_box')\n",
        "negative_input = Input((100,100,3, ), name='negative_input')\n",
        "negative_bb=Input((8,),name='negative_bounding_box')\n",
        "\n",
        "# Shared embedding layer for positive and negative items\n",
        "Shared_DNN = create_base_network([100,100,3],[8])\n",
        "\n",
        "\n",
        "encoded_anchor = Shared_DNN(inputs=[anchor_input,anchor_bb])\n",
        "encoded_positive = Shared_DNN(inputs=[positive_input,positive_bb])\n",
        "encoded_negative = Shared_DNN(inputs=[negative_input,negative_bb])\n",
        "print(encoded_anchor.shape)\n",
        "print(encoded_positive.shape)\n",
        "print(encoded_negative.shape)\n",
        "\n",
        "merged_vector = concatenate([encoded_anchor, encoded_positive, encoded_negative], axis=-1, name='merged_layer')\n",
        "\n",
        "model = Model(inputs=[anchor_input,positive_input, negative_input,anchor_bb,positive_bb,negative_bb], outputs=merged_vector)\n",
        "#model=create_base_network([100,100,3],[8])\n",
        "model.compile(loss=triplet_loss, optimizer=adam_optim,metrics=['accuracy'])"
      ],
      "execution_count": 12,
      "outputs": [
        {
          "output_type": "stream",
          "text": [
            "WARNING:tensorflow:From /usr/local/lib/python3.6/dist-packages/keras/backend/tensorflow_backend.py:541: The name tf.placeholder is deprecated. Please use tf.compat.v1.placeholder instead.\n",
            "\n",
            "WARNING:tensorflow:From /usr/local/lib/python3.6/dist-packages/keras/backend/tensorflow_backend.py:66: The name tf.get_default_graph is deprecated. Please use tf.compat.v1.get_default_graph instead.\n",
            "\n",
            "WARNING:tensorflow:From /usr/local/lib/python3.6/dist-packages/keras/backend/tensorflow_backend.py:4432: The name tf.random_uniform is deprecated. Please use tf.random.uniform instead.\n",
            "\n",
            "WARNING:tensorflow:From /usr/local/lib/python3.6/dist-packages/keras/backend/tensorflow_backend.py:4267: The name tf.nn.max_pool is deprecated. Please use tf.nn.max_pool2d instead.\n",
            "\n",
            "(?, 7)\n",
            "(?, 7)\n",
            "(?, 7)\n",
            "WARNING:tensorflow:From /usr/local/lib/python3.6/dist-packages/keras/optimizers.py:793: The name tf.train.Optimizer is deprecated. Please use tf.compat.v1.train.Optimizer instead.\n",
            "\n",
            "y_pred.shape =  Tensor(\"merged_layer/concat:0\", shape=(?, 21), dtype=float32)\n"
          ],
          "name": "stdout"
        }
      ]
    },
    {
      "cell_type": "code",
      "metadata": {
        "id": "-xp-SuHxpTxH",
        "colab_type": "code",
        "colab": {
          "base_uri": "https://localhost:8080/",
          "height": 544
        },
        "outputId": "74a38a75-e33f-4a1d-f5cb-3ebc1be54b94"
      },
      "source": [
        "model.summary()"
      ],
      "execution_count": 13,
      "outputs": [
        {
          "output_type": "stream",
          "text": [
            "Model: \"model_2\"\n",
            "__________________________________________________________________________________________________\n",
            "Layer (type)                    Output Shape         Param #     Connected to                     \n",
            "==================================================================================================\n",
            "anchor_input (InputLayer)       (None, 100, 100, 3)  0                                            \n",
            "__________________________________________________________________________________________________\n",
            "anchor_bounding_box (InputLayer (None, 8)            0                                            \n",
            "__________________________________________________________________________________________________\n",
            "positive_input (InputLayer)     (None, 100, 100, 3)  0                                            \n",
            "__________________________________________________________________________________________________\n",
            "positive_bounding_box (InputLay (None, 8)            0                                            \n",
            "__________________________________________________________________________________________________\n",
            "negative_input (InputLayer)     (None, 100, 100, 3)  0                                            \n",
            "__________________________________________________________________________________________________\n",
            "negative_bounding_box (InputLay (None, 8)            0                                            \n",
            "__________________________________________________________________________________________________\n",
            "model_1 (Model)                 (None, 7)            336063      anchor_input[0][0]               \n",
            "                                                                 anchor_bounding_box[0][0]        \n",
            "                                                                 positive_input[0][0]             \n",
            "                                                                 positive_bounding_box[0][0]      \n",
            "                                                                 negative_input[0][0]             \n",
            "                                                                 negative_bounding_box[0][0]      \n",
            "__________________________________________________________________________________________________\n",
            "merged_layer (Concatenate)      (None, 21)           0           model_1[1][0]                    \n",
            "                                                                 model_1[2][0]                    \n",
            "                                                                 model_1[3][0]                    \n",
            "==================================================================================================\n",
            "Total params: 336,063\n",
            "Trainable params: 336,063\n",
            "Non-trainable params: 0\n",
            "__________________________________________________________________________________________________\n"
          ],
          "name": "stdout"
        }
      ]
    },
    {
      "cell_type": "code",
      "metadata": {
        "id": "QMLopmtqpXvW",
        "colab_type": "code",
        "colab": {
          "base_uri": "https://localhost:8080/",
          "height": 446
        },
        "outputId": "5dcb3feb-fb77-45af-d35b-24607a425c99"
      },
      "source": [
        "Anchor = X_train[:,0,:][:,:30000].reshape(-1,100,100,3)\n",
        "Positive = X_train[:,1,:][:,:30000].reshape(-1,100,100,3)\n",
        "Negative = X_train[:,2,:][:,:30000].reshape(-1,100,100,3)\n",
        "Anchor_bb=X_train[:,0,:][:,30000:].reshape(-1,8)\n",
        "Positive_bb=X_train[:,1,:][:,30000:].reshape(-1,8)\n",
        "Negative_bb=X_train[:,2,:][:,30000:].reshape(-1,8)\n",
        "\n",
        "\n",
        "Anchor_test = X_test[:,0,:][:,:30000].reshape(-1,100,100,3)\n",
        "Positive_test = X_test[:,1,:][:,:30000].reshape(-1,100,100,3)\n",
        "Negative_test = X_test[:,2,:][:,:30000].reshape(-1,100,100,3)\n",
        "Anchor_test_bb=X_test[:,0,:][:,30000:].reshape(-1,8)\n",
        "Positive_test_bb=X_test[:,1,:][:,30000:].reshape(-1,8)\n",
        "Negative_test_bb=X_test[:,2,:][:,30000:].reshape(-1,8)\n",
        "\n",
        "Y_dummy = np.empty((Anchor.shape[0],300))\n",
        "Y_dummy2 = np.empty((Anchor_test.shape[0],1))\n",
        "\n",
        "model.fit([Anchor,Positive,Negative,Anchor_bb,Positive_bb,Negative_bb],y=y_train,validation_data=([Anchor_test,Positive_test,Negative_test,Anchor_test_bb,Positive_test_bb,Negative_test_bb],y_test), batch_size=32, epochs=50)"
      ],
      "execution_count": 20,
      "outputs": [
        {
          "output_type": "stream",
          "text": [
            "Train on 4080 samples, validate on 1020 samples\n",
            "Epoch 1/50\n",
            "4080/4080 [==============================] - 6s 1ms/step - loss: 0.2828 - acc: 0.0022 - val_loss: 75.6529 - val_acc: 0.0000e+00\n",
            "Epoch 2/50\n",
            "3616/4080 [=========================>....] - ETA: 0s - loss: 0.2834 - acc: 0.0022"
          ],
          "name": "stdout"
        },
        {
          "output_type": "error",
          "ename": "KeyboardInterrupt",
          "evalue": "ignored",
          "traceback": [
            "\u001b[0;31m---------------------------------------------------------------------------\u001b[0m",
            "\u001b[0;31mKeyboardInterrupt\u001b[0m                         Traceback (most recent call last)",
            "\u001b[0;32m<ipython-input-20-bd52ad3c6dba>\u001b[0m in \u001b[0;36m<module>\u001b[0;34m()\u001b[0m\n\u001b[1;32m     17\u001b[0m \u001b[0mY_dummy2\u001b[0m \u001b[0;34m=\u001b[0m \u001b[0mnp\u001b[0m\u001b[0;34m.\u001b[0m\u001b[0mempty\u001b[0m\u001b[0;34m(\u001b[0m\u001b[0;34m(\u001b[0m\u001b[0mAnchor_test\u001b[0m\u001b[0;34m.\u001b[0m\u001b[0mshape\u001b[0m\u001b[0;34m[\u001b[0m\u001b[0;36m0\u001b[0m\u001b[0;34m]\u001b[0m\u001b[0;34m,\u001b[0m\u001b[0;36m1\u001b[0m\u001b[0;34m)\u001b[0m\u001b[0;34m)\u001b[0m\u001b[0;34m\u001b[0m\u001b[0;34m\u001b[0m\u001b[0m\n\u001b[1;32m     18\u001b[0m \u001b[0;34m\u001b[0m\u001b[0m\n\u001b[0;32m---> 19\u001b[0;31m \u001b[0mmodel\u001b[0m\u001b[0;34m.\u001b[0m\u001b[0mfit\u001b[0m\u001b[0;34m(\u001b[0m\u001b[0;34m[\u001b[0m\u001b[0mAnchor\u001b[0m\u001b[0;34m,\u001b[0m\u001b[0mPositive\u001b[0m\u001b[0;34m,\u001b[0m\u001b[0mNegative\u001b[0m\u001b[0;34m,\u001b[0m\u001b[0mAnchor_bb\u001b[0m\u001b[0;34m,\u001b[0m\u001b[0mPositive_bb\u001b[0m\u001b[0;34m,\u001b[0m\u001b[0mNegative_bb\u001b[0m\u001b[0;34m]\u001b[0m\u001b[0;34m,\u001b[0m\u001b[0my\u001b[0m\u001b[0;34m=\u001b[0m\u001b[0mY_dummy\u001b[0m\u001b[0;34m,\u001b[0m\u001b[0mvalidation_data\u001b[0m\u001b[0;34m=\u001b[0m\u001b[0;34m(\u001b[0m\u001b[0;34m[\u001b[0m\u001b[0mAnchor_test\u001b[0m\u001b[0;34m,\u001b[0m\u001b[0mPositive_test\u001b[0m\u001b[0;34m,\u001b[0m\u001b[0mNegative_test\u001b[0m\u001b[0;34m,\u001b[0m\u001b[0mAnchor_test_bb\u001b[0m\u001b[0;34m,\u001b[0m\u001b[0mPositive_test_bb\u001b[0m\u001b[0;34m,\u001b[0m\u001b[0mNegative_test_bb\u001b[0m\u001b[0;34m]\u001b[0m\u001b[0;34m,\u001b[0m\u001b[0mY_dummy2\u001b[0m\u001b[0;34m)\u001b[0m\u001b[0;34m,\u001b[0m \u001b[0mbatch_size\u001b[0m\u001b[0;34m=\u001b[0m\u001b[0;36m32\u001b[0m\u001b[0;34m,\u001b[0m \u001b[0mepochs\u001b[0m\u001b[0;34m=\u001b[0m\u001b[0;36m50\u001b[0m\u001b[0;34m)\u001b[0m\u001b[0;34m\u001b[0m\u001b[0;34m\u001b[0m\u001b[0m\n\u001b[0m",
            "\u001b[0;32m/usr/local/lib/python3.6/dist-packages/keras/engine/training.py\u001b[0m in \u001b[0;36mfit\u001b[0;34m(self, x, y, batch_size, epochs, verbose, callbacks, validation_split, validation_data, shuffle, class_weight, sample_weight, initial_epoch, steps_per_epoch, validation_steps, validation_freq, max_queue_size, workers, use_multiprocessing, **kwargs)\u001b[0m\n\u001b[1;32m   1176\u001b[0m                                         \u001b[0msteps_per_epoch\u001b[0m\u001b[0;34m=\u001b[0m\u001b[0msteps_per_epoch\u001b[0m\u001b[0;34m,\u001b[0m\u001b[0;34m\u001b[0m\u001b[0;34m\u001b[0m\u001b[0m\n\u001b[1;32m   1177\u001b[0m                                         \u001b[0mvalidation_steps\u001b[0m\u001b[0;34m=\u001b[0m\u001b[0mvalidation_steps\u001b[0m\u001b[0;34m,\u001b[0m\u001b[0;34m\u001b[0m\u001b[0;34m\u001b[0m\u001b[0m\n\u001b[0;32m-> 1178\u001b[0;31m                                         validation_freq=validation_freq)\n\u001b[0m\u001b[1;32m   1179\u001b[0m \u001b[0;34m\u001b[0m\u001b[0m\n\u001b[1;32m   1180\u001b[0m     def evaluate(self,\n",
            "\u001b[0;32m/usr/local/lib/python3.6/dist-packages/keras/engine/training_arrays.py\u001b[0m in \u001b[0;36mfit_loop\u001b[0;34m(model, fit_function, fit_inputs, out_labels, batch_size, epochs, verbose, callbacks, val_function, val_inputs, shuffle, callback_metrics, initial_epoch, steps_per_epoch, validation_steps, validation_freq)\u001b[0m\n\u001b[1;32m    202\u001b[0m                     \u001b[0mins_batch\u001b[0m\u001b[0;34m[\u001b[0m\u001b[0mi\u001b[0m\u001b[0;34m]\u001b[0m \u001b[0;34m=\u001b[0m \u001b[0mins_batch\u001b[0m\u001b[0;34m[\u001b[0m\u001b[0mi\u001b[0m\u001b[0;34m]\u001b[0m\u001b[0;34m.\u001b[0m\u001b[0mtoarray\u001b[0m\u001b[0;34m(\u001b[0m\u001b[0;34m)\u001b[0m\u001b[0;34m\u001b[0m\u001b[0;34m\u001b[0m\u001b[0m\n\u001b[1;32m    203\u001b[0m \u001b[0;34m\u001b[0m\u001b[0m\n\u001b[0;32m--> 204\u001b[0;31m                 \u001b[0mouts\u001b[0m \u001b[0;34m=\u001b[0m \u001b[0mfit_function\u001b[0m\u001b[0;34m(\u001b[0m\u001b[0mins_batch\u001b[0m\u001b[0;34m)\u001b[0m\u001b[0;34m\u001b[0m\u001b[0;34m\u001b[0m\u001b[0m\n\u001b[0m\u001b[1;32m    205\u001b[0m                 \u001b[0mouts\u001b[0m \u001b[0;34m=\u001b[0m \u001b[0mto_list\u001b[0m\u001b[0;34m(\u001b[0m\u001b[0mouts\u001b[0m\u001b[0;34m)\u001b[0m\u001b[0;34m\u001b[0m\u001b[0;34m\u001b[0m\u001b[0m\n\u001b[1;32m    206\u001b[0m                 \u001b[0;32mfor\u001b[0m \u001b[0ml\u001b[0m\u001b[0;34m,\u001b[0m \u001b[0mo\u001b[0m \u001b[0;32min\u001b[0m \u001b[0mzip\u001b[0m\u001b[0;34m(\u001b[0m\u001b[0mout_labels\u001b[0m\u001b[0;34m,\u001b[0m \u001b[0mouts\u001b[0m\u001b[0;34m)\u001b[0m\u001b[0;34m:\u001b[0m\u001b[0;34m\u001b[0m\u001b[0;34m\u001b[0m\u001b[0m\n",
            "\u001b[0;32m/usr/local/lib/python3.6/dist-packages/keras/backend/tensorflow_backend.py\u001b[0m in \u001b[0;36m__call__\u001b[0;34m(self, inputs)\u001b[0m\n\u001b[1;32m   2977\u001b[0m                     \u001b[0;32mreturn\u001b[0m \u001b[0mself\u001b[0m\u001b[0;34m.\u001b[0m\u001b[0m_legacy_call\u001b[0m\u001b[0;34m(\u001b[0m\u001b[0minputs\u001b[0m\u001b[0;34m)\u001b[0m\u001b[0;34m\u001b[0m\u001b[0;34m\u001b[0m\u001b[0m\n\u001b[1;32m   2978\u001b[0m \u001b[0;34m\u001b[0m\u001b[0m\n\u001b[0;32m-> 2979\u001b[0;31m             \u001b[0;32mreturn\u001b[0m \u001b[0mself\u001b[0m\u001b[0;34m.\u001b[0m\u001b[0m_call\u001b[0m\u001b[0;34m(\u001b[0m\u001b[0minputs\u001b[0m\u001b[0;34m)\u001b[0m\u001b[0;34m\u001b[0m\u001b[0;34m\u001b[0m\u001b[0m\n\u001b[0m\u001b[1;32m   2980\u001b[0m         \u001b[0;32melse\u001b[0m\u001b[0;34m:\u001b[0m\u001b[0;34m\u001b[0m\u001b[0;34m\u001b[0m\u001b[0m\n\u001b[1;32m   2981\u001b[0m             \u001b[0;32mif\u001b[0m \u001b[0mpy_any\u001b[0m\u001b[0;34m(\u001b[0m\u001b[0mis_tensor\u001b[0m\u001b[0;34m(\u001b[0m\u001b[0mx\u001b[0m\u001b[0;34m)\u001b[0m \u001b[0;32mfor\u001b[0m \u001b[0mx\u001b[0m \u001b[0;32min\u001b[0m \u001b[0minputs\u001b[0m\u001b[0;34m)\u001b[0m\u001b[0;34m:\u001b[0m\u001b[0;34m\u001b[0m\u001b[0;34m\u001b[0m\u001b[0m\n",
            "\u001b[0;32m/usr/local/lib/python3.6/dist-packages/keras/backend/tensorflow_backend.py\u001b[0m in \u001b[0;36m_call\u001b[0;34m(self, inputs)\u001b[0m\n\u001b[1;32m   2935\u001b[0m             \u001b[0mfetched\u001b[0m \u001b[0;34m=\u001b[0m \u001b[0mself\u001b[0m\u001b[0;34m.\u001b[0m\u001b[0m_callable_fn\u001b[0m\u001b[0;34m(\u001b[0m\u001b[0;34m*\u001b[0m\u001b[0marray_vals\u001b[0m\u001b[0;34m,\u001b[0m \u001b[0mrun_metadata\u001b[0m\u001b[0;34m=\u001b[0m\u001b[0mself\u001b[0m\u001b[0;34m.\u001b[0m\u001b[0mrun_metadata\u001b[0m\u001b[0;34m)\u001b[0m\u001b[0;34m\u001b[0m\u001b[0;34m\u001b[0m\u001b[0m\n\u001b[1;32m   2936\u001b[0m         \u001b[0;32melse\u001b[0m\u001b[0;34m:\u001b[0m\u001b[0;34m\u001b[0m\u001b[0;34m\u001b[0m\u001b[0m\n\u001b[0;32m-> 2937\u001b[0;31m             \u001b[0mfetched\u001b[0m \u001b[0;34m=\u001b[0m \u001b[0mself\u001b[0m\u001b[0;34m.\u001b[0m\u001b[0m_callable_fn\u001b[0m\u001b[0;34m(\u001b[0m\u001b[0;34m*\u001b[0m\u001b[0marray_vals\u001b[0m\u001b[0;34m)\u001b[0m\u001b[0;34m\u001b[0m\u001b[0;34m\u001b[0m\u001b[0m\n\u001b[0m\u001b[1;32m   2938\u001b[0m         \u001b[0;32mreturn\u001b[0m \u001b[0mfetched\u001b[0m\u001b[0;34m[\u001b[0m\u001b[0;34m:\u001b[0m\u001b[0mlen\u001b[0m\u001b[0;34m(\u001b[0m\u001b[0mself\u001b[0m\u001b[0;34m.\u001b[0m\u001b[0moutputs\u001b[0m\u001b[0;34m)\u001b[0m\u001b[0;34m]\u001b[0m\u001b[0;34m\u001b[0m\u001b[0;34m\u001b[0m\u001b[0m\n\u001b[1;32m   2939\u001b[0m \u001b[0;34m\u001b[0m\u001b[0m\n",
            "\u001b[0;32m/usr/local/lib/python3.6/dist-packages/tensorflow_core/python/client/session.py\u001b[0m in \u001b[0;36m__call__\u001b[0;34m(self, *args, **kwargs)\u001b[0m\n\u001b[1;32m   1470\u001b[0m         ret = tf_session.TF_SessionRunCallable(self._session._session,\n\u001b[1;32m   1471\u001b[0m                                                \u001b[0mself\u001b[0m\u001b[0;34m.\u001b[0m\u001b[0m_handle\u001b[0m\u001b[0;34m,\u001b[0m \u001b[0margs\u001b[0m\u001b[0;34m,\u001b[0m\u001b[0;34m\u001b[0m\u001b[0;34m\u001b[0m\u001b[0m\n\u001b[0;32m-> 1472\u001b[0;31m                                                run_metadata_ptr)\n\u001b[0m\u001b[1;32m   1473\u001b[0m         \u001b[0;32mif\u001b[0m \u001b[0mrun_metadata\u001b[0m\u001b[0;34m:\u001b[0m\u001b[0;34m\u001b[0m\u001b[0;34m\u001b[0m\u001b[0m\n\u001b[1;32m   1474\u001b[0m           \u001b[0mproto_data\u001b[0m \u001b[0;34m=\u001b[0m \u001b[0mtf_session\u001b[0m\u001b[0;34m.\u001b[0m\u001b[0mTF_GetBuffer\u001b[0m\u001b[0;34m(\u001b[0m\u001b[0mrun_metadata_ptr\u001b[0m\u001b[0;34m)\u001b[0m\u001b[0;34m\u001b[0m\u001b[0;34m\u001b[0m\u001b[0m\n",
            "\u001b[0;31mKeyboardInterrupt\u001b[0m: "
          ]
        }
      ]
    },
    {
      "cell_type": "code",
      "metadata": {
        "id": "aauru0Qlpet5",
        "colab_type": "code",
        "colab": {}
      },
      "source": [
        "trained_model = Model(inputs=[anchor_input,anchor_bb], outputs=encoded_anchor)"
      ],
      "execution_count": 0,
      "outputs": []
    },
    {
      "cell_type": "code",
      "metadata": {
        "id": "FZu2zEvOphTV",
        "colab_type": "code",
        "colab": {
          "base_uri": "https://localhost:8080/",
          "height": 51
        },
        "outputId": "f89dbe86-27b7-4afd-f857-841995fbcd79"
      },
      "source": [
        "from sklearn.preprocessing import LabelBinarizer\n",
        "le=LabelBinarizer()\n",
        "y_train_onehot=le.fit_transform(y_train)\n",
        "y_test_onehot=le.fit_transform(y_test)\n",
        "print(y_train_onehot.shape)\n",
        "print(y_test_onehot.shape)"
      ],
      "execution_count": 17,
      "outputs": [
        {
          "output_type": "stream",
          "text": [
            "(4080, 37)\n",
            "(1020, 37)\n"
          ],
          "name": "stdout"
        }
      ]
    },
    {
      "cell_type": "code",
      "metadata": {
        "id": "KG5L_u9vpj_L",
        "colab_type": "code",
        "colab": {
          "base_uri": "https://localhost:8080/",
          "height": 1000
        },
        "outputId": "bb3b60a6-0132-4360-f644-6a2906511923"
      },
      "source": [
        "X_train_trm = trained_model.predict([X_train[:,0,:][:,:30000].reshape(-1,100,100,3),X_train[:,0,:][:,30000:].reshape(-1,8)])\n",
        "X_test_trm = trained_model.predict([X_test[:,0,:][:,:30000].reshape(-1,100,100,3),X_test[:,0,:][:,30000:].reshape(-1,8)])\n",
        "\n",
        "Classifier_input = Input((7,))\n",
        "\n",
        "Classifier_output = Dense(37, activation='softmax')(Classifier_input)\n",
        "Classifier_model = Model(Classifier_input, Classifier_output)\n",
        "\n",
        "\n",
        "Classifier_model.compile(optimizer='adam',loss='categorical_crossentropy',metrics=['accuracy'])\n",
        "\n",
        "Classifier_model.fit(X_train_trm,y_train_onehot, validation_data=(X_test_trm,y_test_onehot),epochs=50)"
      ],
      "execution_count": 19,
      "outputs": [
        {
          "output_type": "stream",
          "text": [
            "Train on 4080 samples, validate on 1020 samples\n",
            "Epoch 1/50\n",
            "4080/4080 [==============================] - 1s 129us/step - loss: 5.9611 - acc: 0.0696 - val_loss: 4.5621 - val_acc: 0.1176\n",
            "Epoch 2/50\n",
            "4080/4080 [==============================] - 0s 89us/step - loss: 4.4316 - acc: 0.1054 - val_loss: 3.7078 - val_acc: 0.1245\n",
            "Epoch 3/50\n",
            "4080/4080 [==============================] - 0s 82us/step - loss: 3.7251 - acc: 0.1123 - val_loss: 3.3592 - val_acc: 0.1216\n",
            "Epoch 4/50\n",
            "4080/4080 [==============================] - 0s 88us/step - loss: 3.3664 - acc: 0.1176 - val_loss: 3.1707 - val_acc: 0.1304\n",
            "Epoch 5/50\n",
            "4080/4080 [==============================] - 0s 89us/step - loss: 3.1612 - acc: 0.1277 - val_loss: 3.0674 - val_acc: 0.1441\n",
            "Epoch 6/50\n",
            "4080/4080 [==============================] - 0s 89us/step - loss: 3.0491 - acc: 0.1453 - val_loss: 3.0146 - val_acc: 0.1569\n",
            "Epoch 7/50\n",
            "4080/4080 [==============================] - 0s 87us/step - loss: 2.9826 - acc: 0.1561 - val_loss: 2.9815 - val_acc: 0.1618\n",
            "Epoch 8/50\n",
            "4080/4080 [==============================] - 0s 90us/step - loss: 2.9458 - acc: 0.1542 - val_loss: 2.9588 - val_acc: 0.1598\n",
            "Epoch 9/50\n",
            "4080/4080 [==============================] - 0s 81us/step - loss: 2.9200 - acc: 0.1576 - val_loss: 2.9469 - val_acc: 0.1618\n",
            "Epoch 10/50\n",
            "4080/4080 [==============================] - 0s 80us/step - loss: 2.9048 - acc: 0.1630 - val_loss: 2.9411 - val_acc: 0.1637\n",
            "Epoch 11/50\n",
            "4080/4080 [==============================] - 0s 81us/step - loss: 2.8947 - acc: 0.1642 - val_loss: 2.9344 - val_acc: 0.1618\n",
            "Epoch 12/50\n",
            "4080/4080 [==============================] - 0s 81us/step - loss: 2.8860 - acc: 0.1647 - val_loss: 2.9328 - val_acc: 0.1627\n",
            "Epoch 13/50\n",
            "4080/4080 [==============================] - 0s 88us/step - loss: 2.8818 - acc: 0.1645 - val_loss: 2.9302 - val_acc: 0.1578\n",
            "Epoch 14/50\n",
            "4080/4080 [==============================] - 0s 84us/step - loss: 2.8772 - acc: 0.1640 - val_loss: 2.9262 - val_acc: 0.1608\n",
            "Epoch 15/50\n",
            "4080/4080 [==============================] - 0s 82us/step - loss: 2.8722 - acc: 0.1667 - val_loss: 2.9249 - val_acc: 0.1637\n",
            "Epoch 16/50\n",
            "4080/4080 [==============================] - 0s 88us/step - loss: 2.8713 - acc: 0.1623 - val_loss: 2.9228 - val_acc: 0.1588\n",
            "Epoch 17/50\n",
            "4080/4080 [==============================] - 0s 89us/step - loss: 2.8677 - acc: 0.1640 - val_loss: 2.9230 - val_acc: 0.1627\n",
            "Epoch 18/50\n",
            "4080/4080 [==============================] - 0s 87us/step - loss: 2.8648 - acc: 0.1603 - val_loss: 2.9225 - val_acc: 0.1657\n",
            "Epoch 19/50\n",
            "4080/4080 [==============================] - 0s 91us/step - loss: 2.8654 - acc: 0.1674 - val_loss: 2.9204 - val_acc: 0.1618\n",
            "Epoch 20/50\n",
            "4080/4080 [==============================] - 0s 88us/step - loss: 2.8622 - acc: 0.1640 - val_loss: 2.9210 - val_acc: 0.1618\n",
            "Epoch 21/50\n",
            "4080/4080 [==============================] - 0s 80us/step - loss: 2.8609 - acc: 0.1647 - val_loss: 2.9211 - val_acc: 0.1627\n",
            "Epoch 22/50\n",
            "4080/4080 [==============================] - 0s 84us/step - loss: 2.8589 - acc: 0.1652 - val_loss: 2.9214 - val_acc: 0.1627\n",
            "Epoch 23/50\n",
            "4080/4080 [==============================] - 0s 92us/step - loss: 2.8594 - acc: 0.1627 - val_loss: 2.9199 - val_acc: 0.1637\n",
            "Epoch 24/50\n",
            "4080/4080 [==============================] - 0s 87us/step - loss: 2.8577 - acc: 0.1654 - val_loss: 2.9180 - val_acc: 0.1627\n",
            "Epoch 25/50\n",
            "4080/4080 [==============================] - 0s 86us/step - loss: 2.8568 - acc: 0.1632 - val_loss: 2.9169 - val_acc: 0.1618\n",
            "Epoch 26/50\n",
            "4080/4080 [==============================] - 0s 88us/step - loss: 2.8547 - acc: 0.1635 - val_loss: 2.9165 - val_acc: 0.1637\n",
            "Epoch 27/50\n",
            "4080/4080 [==============================] - 0s 90us/step - loss: 2.8538 - acc: 0.1667 - val_loss: 2.9159 - val_acc: 0.1608\n",
            "Epoch 28/50\n",
            "4080/4080 [==============================] - 0s 92us/step - loss: 2.8526 - acc: 0.1652 - val_loss: 2.9142 - val_acc: 0.1637\n",
            "Epoch 29/50\n",
            "4080/4080 [==============================] - 0s 83us/step - loss: 2.8523 - acc: 0.1662 - val_loss: 2.9133 - val_acc: 0.1627\n",
            "Epoch 30/50\n",
            "4080/4080 [==============================] - 0s 82us/step - loss: 2.8529 - acc: 0.1647 - val_loss: 2.9125 - val_acc: 0.1608\n",
            "Epoch 31/50\n",
            "4080/4080 [==============================] - 0s 84us/step - loss: 2.8498 - acc: 0.1642 - val_loss: 2.9129 - val_acc: 0.1637\n",
            "Epoch 32/50\n",
            "4080/4080 [==============================] - 0s 83us/step - loss: 2.8498 - acc: 0.1657 - val_loss: 2.9123 - val_acc: 0.1618\n",
            "Epoch 33/50\n",
            "4080/4080 [==============================] - 0s 86us/step - loss: 2.8489 - acc: 0.1645 - val_loss: 2.9119 - val_acc: 0.1637\n",
            "Epoch 34/50\n",
            "4080/4080 [==============================] - 0s 89us/step - loss: 2.8467 - acc: 0.1657 - val_loss: 2.9102 - val_acc: 0.1637\n",
            "Epoch 35/50\n",
            "4080/4080 [==============================] - 0s 92us/step - loss: 2.8474 - acc: 0.1652 - val_loss: 2.9111 - val_acc: 0.1637\n",
            "Epoch 36/50\n",
            "4080/4080 [==============================] - 0s 92us/step - loss: 2.8446 - acc: 0.1674 - val_loss: 2.9110 - val_acc: 0.1637\n",
            "Epoch 37/50\n",
            "4080/4080 [==============================] - 0s 84us/step - loss: 2.8457 - acc: 0.1669 - val_loss: 2.9097 - val_acc: 0.1637\n",
            "Epoch 38/50\n",
            "4080/4080 [==============================] - 0s 87us/step - loss: 2.8453 - acc: 0.1689 - val_loss: 2.9094 - val_acc: 0.1618\n",
            "Epoch 39/50\n",
            "4080/4080 [==============================] - 0s 89us/step - loss: 2.8437 - acc: 0.1686 - val_loss: 2.9085 - val_acc: 0.1608\n",
            "Epoch 40/50\n",
            "4080/4080 [==============================] - 0s 90us/step - loss: 2.8432 - acc: 0.1657 - val_loss: 2.9081 - val_acc: 0.1588\n",
            "Epoch 41/50\n",
            "4080/4080 [==============================] - 0s 87us/step - loss: 2.8439 - acc: 0.1667 - val_loss: 2.9081 - val_acc: 0.1618\n",
            "Epoch 42/50\n",
            "4080/4080 [==============================] - 0s 86us/step - loss: 2.8430 - acc: 0.1650 - val_loss: 2.9069 - val_acc: 0.1598\n",
            "Epoch 43/50\n",
            "4080/4080 [==============================] - 0s 88us/step - loss: 2.8421 - acc: 0.1672 - val_loss: 2.9086 - val_acc: 0.1618\n",
            "Epoch 44/50\n",
            "4080/4080 [==============================] - 0s 81us/step - loss: 2.8421 - acc: 0.1689 - val_loss: 2.9069 - val_acc: 0.1647\n",
            "Epoch 45/50\n",
            "4080/4080 [==============================] - 0s 87us/step - loss: 2.8418 - acc: 0.1664 - val_loss: 2.9067 - val_acc: 0.1578\n",
            "Epoch 46/50\n",
            "4080/4080 [==============================] - 0s 83us/step - loss: 2.8406 - acc: 0.1630 - val_loss: 2.9045 - val_acc: 0.1618\n",
            "Epoch 47/50\n",
            "4080/4080 [==============================] - 0s 84us/step - loss: 2.8400 - acc: 0.1674 - val_loss: 2.9042 - val_acc: 0.1627\n",
            "Epoch 48/50\n",
            "4080/4080 [==============================] - 0s 85us/step - loss: 2.8383 - acc: 0.1657 - val_loss: 2.9053 - val_acc: 0.1608\n",
            "Epoch 49/50\n",
            "4080/4080 [==============================] - 0s 84us/step - loss: 2.8374 - acc: 0.1645 - val_loss: 2.9057 - val_acc: 0.1647\n",
            "Epoch 50/50\n",
            "4080/4080 [==============================] - 0s 91us/step - loss: 2.8371 - acc: 0.1664 - val_loss: 2.9056 - val_acc: 0.1637\n"
          ],
          "name": "stdout"
        },
        {
          "output_type": "execute_result",
          "data": {
            "text/plain": [
              "<keras.callbacks.History at 0x7fe5575d2be0>"
            ]
          },
          "metadata": {
            "tags": []
          },
          "execution_count": 19
        }
      ]
    },
    {
      "cell_type": "code",
      "metadata": {
        "id": "Ur6jYBkDopLJ",
        "colab_type": "code",
        "colab": {}
      },
      "source": [
        "from google.colab import drive\n",
        "drive.mount('/content/drive')"
      ],
      "execution_count": 0,
      "outputs": []
    },
    {
      "cell_type": "code",
      "metadata": {
        "id": "iglDy0SMoqAr",
        "colab_type": "code",
        "colab": {}
      },
      "source": [
        ""
      ],
      "execution_count": 0,
      "outputs": []
    }
  ]
}